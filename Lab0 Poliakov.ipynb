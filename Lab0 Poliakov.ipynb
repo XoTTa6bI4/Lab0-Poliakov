{
 "cells": [
  {
   "cell_type": "code",
   "execution_count": 1,
   "id": "e7bff131-9425-4f35-9417-90e9cce68a52",
   "metadata": {},
   "outputs": [
    {
     "name": "stdout",
     "output_type": "stream",
     "text": [
      "8\n"
     ]
    }
   ],
   "source": [
    "N = ord(\"M\") % 10 + 1;\n",
    "print(N);"
   ]
  },
  {
   "cell_type": "markdown",
   "id": "070dc223-c31f-4604-965d-aad227f5f6b7",
   "metadata": {},
   "source": [
    "# Грузія\n",
    "<!-- Стилізоване блокове оформлення -->\n",
    "<div style=\"border: 3px dashed #333; padding: 15px; background-color: #f9f2f9; border-radius: 10px;\">\n",
    "\n",
    "## Інформація про Грузію\n",
    "**Грузія** — країна на перехресті Європи та Азії, що розташована на заході Кавказу. Ця країна славиться своєю унікальною культурною спадщиною, історичними пам'ятками та природними чудесами.\n",
    "\n",
    "### Площина та населення\n",
    "- **Площина**: 69,700 квадратних кілометрів\n",
    "- **Населення**: приблизно 3.7 мільйони осіб (на 2023 рік)\n",
    "\n",
    "## Державний устрій\n",
    "- **Форма правління**: Парламентська республіка\n",
    "- **Столиця**: Тбілісі\n",
    "- **Офіційна мова**: грузинська\n",
    "\n",
    "---"
   ]
  },
  {
   "cell_type": "markdown",
   "id": "3ad1c104-bc84-41d3-869b-91d0c94730a3",
   "metadata": {},
   "source": [
    "<!-- Візуально виділений блок -->\n",
    "<div style=\"color: #0056b3; border: 3px solid #2e8b57; padding: 15px; border-radius: 10px;\">\n",
    "\n",
    "## Видатні Персони\n",
    "\n",
    "1. **Шота Руставелі** — відомий поет, автор епічної поеми \"Витязь у тигровій шкурі\".\n",
    "2. **Ілля Чавчавадзе** — видатний письменник і громадський діяч.\n",
    "3. **Зураб Церетелі** — сучасний художник та скульптор.\n",
    "4. **Ніно Бурджанадзе** — впливовий політик, колишня голова парламенту.\n",
    "\n",
    "</div>\n",
    "\n",
    "---"
   ]
  },
  {
   "cell_type": "markdown",
   "id": "821d7205-1497-4125-b357-2ed20046e498",
   "metadata": {},
   "source": [
    "## Видатні Персони (таблиця)\n",
    "\n",
    "| **Ім'я**                  | **Біографія**                                                   |\n",
    "|---------------------------|-----------------------------------------------------------------|\n",
    "| **Шота Руставелі**        | відомий поет, автор епічної поеми \"Витязь у тигровій шкурі\".    |\n",
    "| **Ілля Чавчавадзе**       | видатний письменник і громадський діяч.                         |\n",
    "| **Зураб Церетелі**        | сучасний художник та скульптор.                                 |\n",
    "| **Ніно Бурджанадзе**      | впливовий політик, колишня голова парламенту.                   |\n",
    "\n",
    "---"
   ]
  },
  {
   "cell_type": "markdown",
   "id": "c6728ebf-7c9d-4f86-816e-4acdf3fee3a9",
   "metadata": {},
   "source": [
    "## Основні пам’ятки\n",
    "- **Пам'ятки культури:**\n",
    "  - **Старий Тбілісі.**\n",
    "  - **Гергетська церква.**\n",
    "  - **Верхня Сванетія.**\n",
    "  - **Площа Свободи в Тбілісі.**\n",
    "  - **Уплісцихе.**\n",
    "    \n",
    "- **Пам'ятки природи:**\n",
    "    \n",
    "  - **Мінеральне озеро Абано**\n",
    "  - **Алазанські заплавні ліси**\n",
    "  - **Афрцівський (Орлиний) яр**\n",
    "  - **Каньйон Балда**\n",
    "  - **Печера Бгері**\n",
    "---"
   ]
  },
  {
   "cell_type": "markdown",
   "id": "1a2721be-673c-4cd5-9e40-88f944e18d85",
   "metadata": {},
   "source": [
    "## Важливі пункти\n",
    "\n",
    "1. **Популярні туристичні місця**\n",
    "    - *Батумі*\n",
    "    - *Сванетія*\n",
    "\n",
    "\n",
    "2. **Національні страви**\n",
    "    - *Хачапурі*\n",
    "    - *Хінкалі*\n",
    "\n",
    "---"
   ]
  },
  {
   "cell_type": "markdown",
   "id": "ee186a56-1738-4638-852f-f3bc01e9b192",
   "metadata": {},
   "source": [
    "## Гора Степана Бандери у Грузії\n",
    "\n",
    "![Гора Степана Бандери](https://upload.wikimedia.org/wikipedia/commons/e/ec/ორწვერი_და_გერგეტის_მყინვარი.jpg)\n",
    "\n",
    "---"
   ]
  },
  {
   "cell_type": "markdown",
   "id": "21437b1d-2e64-4054-8fc9-acac8c07d09d",
   "metadata": {},
   "source": [
    "\n",
    "## Гіперпосилання\n",
    "\n",
    "[Рецепт хінкалі з яловичиною](https://klopotenko.com/reczept-hinkali-z-yalovychynoyu-vid-yevgena-klopotenka/)"
   ]
  },
  {
   "cell_type": "code",
   "execution_count": 2,
   "id": "adab2913-5f20-4c29-b106-608dc2a8cb7a",
   "metadata": {},
   "outputs": [
    {
     "data": {
      "text/html": [
       "<h1>Прапор Грузії</h1>\n",
       "<svg xmlns=\"http://www.w3.org/2000/svg\" viewBox=\"0 0 150 100\" width=\"150\" height=\"100\" style=\"border: 1pt solid black;\">\n",
       "  <!-- Білий фон -->\n",
       "  <rect width=\"150\" height=\"100\" fill=\"white\"/>\n",
       "  \n",
       "  <!-- Великий червоний хрест -->\n",
       "  <rect x=\"65\" y=\"0\" width=\"20\" height=\"100\" fill=\"#FF0000\"/>\n",
       "  <rect x=\"0\" y=\"40\" width=\"150\" height=\"20\" fill=\"#FF0000\"/>\n",
       "  \n",
       "  <!-- Чотири менші червоні хрести -->\n",
       "  <!-- Верхній лівий -->\n",
       "  <rect x=\"32.5\" y=\"10\" width=\"5\" height=\"20\" fill=\"#FF0000\"/>\n",
       "  <rect x=\"25\" y=\"17.5\" width=\"20\" height=\"5\" fill=\"#FF0000\"/>\n",
       "  \n",
       "  <!-- Верхній правий -->\n",
       "  <rect x=\"112.5\" y=\"10\" width=\"5\" height=\"20\" fill=\"#FF0000\"/>\n",
       "  <rect x=\"105\" y=\"17.5\" width=\"20\" height=\"5\" fill=\"#FF0000\"/>\n",
       "  \n",
       "  <!-- Нижній лівий -->\n",
       "  <rect x=\"32.5\" y=\"70\" width=\"5\" height=\"20\" fill=\"#FF0000\"/>\n",
       "  <rect x=\"25\" y=\"77.5\" width=\"20\" height=\"5\" fill=\"#FF0000\"/>\n",
       "  \n",
       "  <!-- Нижній правий -->\n",
       "  <rect x=\"112.5\" y=\"70\" width=\"5\" height=\"20\" fill=\"#FF0000\"/>\n",
       "  <rect x=\"105\" y=\"77.5\" width=\"20\" height=\"5\" fill=\"#FF0000\"/>\n",
       "</svg>\n"
      ],
      "text/plain": [
       "<IPython.core.display.HTML object>"
      ]
     },
     "metadata": {},
     "output_type": "display_data"
    }
   ],
   "source": [
    "%%HTML\n",
    "<h1>Прапор Грузії</h1>\n",
    "<svg xmlns=\"http://www.w3.org/2000/svg\" viewBox=\"0 0 150 100\" width=\"150\" height=\"100\" style=\"border: 1pt solid black;\">\n",
    "  <!-- Білий фон -->\n",
    "  <rect width=\"150\" height=\"100\" fill=\"white\"/>\n",
    "  \n",
    "  <!-- Великий червоний хрест -->\n",
    "  <rect x=\"65\" y=\"0\" width=\"20\" height=\"100\" fill=\"#FF0000\"/>\n",
    "  <rect x=\"0\" y=\"40\" width=\"150\" height=\"20\" fill=\"#FF0000\"/>\n",
    "  \n",
    "  <!-- Чотири менші червоні хрести -->\n",
    "  <!-- Верхній лівий -->\n",
    "  <rect x=\"32.5\" y=\"10\" width=\"5\" height=\"20\" fill=\"#FF0000\"/>\n",
    "  <rect x=\"25\" y=\"17.5\" width=\"20\" height=\"5\" fill=\"#FF0000\"/>\n",
    "  \n",
    "  <!-- Верхній правий -->\n",
    "  <rect x=\"112.5\" y=\"10\" width=\"5\" height=\"20\" fill=\"#FF0000\"/>\n",
    "  <rect x=\"105\" y=\"17.5\" width=\"20\" height=\"5\" fill=\"#FF0000\"/>\n",
    "  \n",
    "  <!-- Нижній лівий -->\n",
    "  <rect x=\"32.5\" y=\"70\" width=\"5\" height=\"20\" fill=\"#FF0000\"/>\n",
    "  <rect x=\"25\" y=\"77.5\" width=\"20\" height=\"5\" fill=\"#FF0000\"/>\n",
    "  \n",
    "  <!-- Нижній правий -->\n",
    "  <rect x=\"112.5\" y=\"70\" width=\"5\" height=\"20\" fill=\"#FF0000\"/>\n",
    "  <rect x=\"105\" y=\"77.5\" width=\"20\" height=\"5\" fill=\"#FF0000\"/>\n",
    "</svg>\n"
   ]
  },
  {
   "cell_type": "code",
   "execution_count": null,
   "id": "537fa759-7063-4436-9b59-b118a0e23a96",
   "metadata": {},
   "outputs": [],
   "source": [
    "def gnome_sort(arr):\n",
    "    index = 0\n",
    "    while index < len(arr):\n",
    "        if index == 0:\n",
    "            index += 1\n",
    "        if arr[index] <= arr[index - 1]:\n",
    "            index += 1\n",
    "        else:\n",
    "            arr[index], arr[index - 1] = arr[index - 1], arr[index]\n",
    "            index -= 1\n",
    "    return arr\n",
    "\n",
    "def task_8():\n",
    "    while True:\n",
    "        user_input = input(\"Будь ласка, введіть масив: \")\n",
    "        try:\n",
    "            input_list = list(map(int, user_input.split()))\n",
    "            sorted_list = gnome_sort(input_list)\n",
    "            print(\"Результат:\", sorted_list)\n",
    "            break\n",
    "        except ValueError:\n",
    "            print(\"Помилка.\")\n",
    "\n",
    "task_8()\n"
   ]
  },
  {
   "cell_type": "code",
   "execution_count": null,
   "id": "c1a3234c-b5d0-47a9-b342-3f83dfa72088",
   "metadata": {},
   "outputs": [],
   "source": []
  }
 ],
 "metadata": {
  "kernelspec": {
   "display_name": "Python 3 (ipykernel)",
   "language": "python",
   "name": "python3"
  },
  "language_info": {
   "codemirror_mode": {
    "name": "ipython",
    "version": 3
   },
   "file_extension": ".py",
   "mimetype": "text/x-python",
   "name": "python",
   "nbconvert_exporter": "python",
   "pygments_lexer": "ipython3",
   "version": "3.12.7"
  }
 },
 "nbformat": 4,
 "nbformat_minor": 5
}
